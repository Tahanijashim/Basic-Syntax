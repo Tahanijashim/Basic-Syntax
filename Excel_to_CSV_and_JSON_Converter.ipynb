{
  "cells": [
    {
      "cell_type": "markdown",
      "metadata": {
        "id": "view-in-github",
        "colab_type": "text"
      },
      "source": [
        "<a href=\"https://colab.research.google.com/github/Tahanijashim/Basic-Syntax/blob/main/Excel_to_CSV_and_JSON_Converter.ipynb\" target=\"_parent\"><img src=\"https://colab.research.google.com/assets/colab-badge.svg\" alt=\"Open In Colab\"/></a>"
      ]
    },
    {
      "cell_type": "code",
      "source": [
        "import pandas as pd\n",
        "import json\n",
        "import io\n",
        "\n",
        "def excel_to_csv(excel_data):\n",
        "    \"\"\"\n",
        "    Converts Excel data (file path or bytes) to CSV format.\n",
        "\n",
        "    Args:\n",
        "        excel_data: Path to an Excel file (str) or Excel file content as bytes.\n",
        "\n",
        "    Returns:\n",
        "        CSV data as a string, or None if an error occurs.\n",
        "    \"\"\"\n",
        "    try:\n",
        "        df = pd.read_excel(excel_data)\n",
        "        csv_data = df.to_csv(index=False, encoding='utf-8')  # Ensure UTF-8 encoding\n",
        "        return csv_data\n",
        "    except Exception as e:\n",
        "        print(f\"Error converting Excel to CSV: {e}\")\n",
        "        return None\n",
        "\n",
        "def excel_to_json(excel_data):\n",
        "    \"\"\"\n",
        "    Converts Excel data (file path or bytes) to JSON format.\n",
        "\n",
        "    Args:\n",
        "        excel_data: Path to an Excel file (str) or Excel file content as bytes.\n",
        "\n",
        "    Returns:\n",
        "        JSON data as a string, or None if an error occurs.\n",
        "    \"\"\"\n",
        "    try:\n",
        "        df = pd.read_excel(excel_data)\n",
        "        json_data = df.to_json(orient=\"records\", date_format='iso') # Use iso for dates\n",
        "        return json_data\n",
        "    except Exception as e:\n",
        "        print(f\"Error converting Excel to JSON: {e}\")\n",
        "        return None\n",
        "\n"
      ],
      "outputs": [],
      "execution_count": null,
      "metadata": {
        "id": "yzDSp7BEmooH"
      }
    }
  ],
  "metadata": {
    "colab": {
      "provenance": [],
      "include_colab_link": true
    },
    "kernelspec": {
      "display_name": "Python 3",
      "name": "python3"
    }
  },
  "nbformat": 4,
  "nbformat_minor": 0
}